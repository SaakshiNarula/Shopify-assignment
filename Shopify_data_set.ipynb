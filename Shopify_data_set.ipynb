{
  "nbformat": 4,
  "nbformat_minor": 0,
  "metadata": {
    "colab": {
      "name": "Shopify data set.ipynb",
      "provenance": [],
      "authorship_tag": "ABX9TyP7p1m+hbbBhsErEXchb+zt",
      "include_colab_link": true
    },
    "kernelspec": {
      "name": "python3",
      "display_name": "Python 3"
    }
  },
  "cells": [
    {
      "cell_type": "markdown",
      "metadata": {
        "id": "view-in-github",
        "colab_type": "text"
      },
      "source": [
        "<a href=\"https://colab.research.google.com/github/SaakshiNarula/Shopify-assignment/blob/master/Shopify_data_set.ipynb\" target=\"_parent\"><img src=\"https://colab.research.google.com/assets/colab-badge.svg\" alt=\"Open In Colab\"/></a>"
      ]
    },
    {
      "cell_type": "markdown",
      "metadata": {
        "id": "_ftQzuqIlWgQ",
        "colab_type": "text"
      },
      "source": [
        "**QUESTION 1**"
      ]
    },
    {
      "cell_type": "code",
      "metadata": {
        "id": "T4rtUbAzfrZR",
        "colab_type": "code",
        "colab": {
          "base_uri": "https://localhost:8080/",
          "height": 415
        },
        "outputId": "1d8f7aec-4acb-4e13-e61e-ac591d1f35f0"
      },
      "source": [
        "import pandas as pd\n",
        "df = pd.read_csv('/content/2019 Winter Data Science Intern Challenge Data Set - Sheet1.csv')\n",
        "df"
      ],
      "execution_count": 76,
      "outputs": [
        {
          "output_type": "execute_result",
          "data": {
            "text/html": [
              "<div>\n",
              "<style scoped>\n",
              "    .dataframe tbody tr th:only-of-type {\n",
              "        vertical-align: middle;\n",
              "    }\n",
              "\n",
              "    .dataframe tbody tr th {\n",
              "        vertical-align: top;\n",
              "    }\n",
              "\n",
              "    .dataframe thead th {\n",
              "        text-align: right;\n",
              "    }\n",
              "</style>\n",
              "<table border=\"1\" class=\"dataframe\">\n",
              "  <thead>\n",
              "    <tr style=\"text-align: right;\">\n",
              "      <th></th>\n",
              "      <th>order_id</th>\n",
              "      <th>shop_id</th>\n",
              "      <th>user_id</th>\n",
              "      <th>order_amount</th>\n",
              "      <th>total_items</th>\n",
              "      <th>payment_method</th>\n",
              "      <th>created_at</th>\n",
              "    </tr>\n",
              "  </thead>\n",
              "  <tbody>\n",
              "    <tr>\n",
              "      <th>0</th>\n",
              "      <td>1</td>\n",
              "      <td>53</td>\n",
              "      <td>746</td>\n",
              "      <td>224</td>\n",
              "      <td>2</td>\n",
              "      <td>cash</td>\n",
              "      <td>2017-03-13 12:36:56</td>\n",
              "    </tr>\n",
              "    <tr>\n",
              "      <th>1</th>\n",
              "      <td>2</td>\n",
              "      <td>92</td>\n",
              "      <td>925</td>\n",
              "      <td>90</td>\n",
              "      <td>1</td>\n",
              "      <td>cash</td>\n",
              "      <td>2017-03-03 17:38:52</td>\n",
              "    </tr>\n",
              "    <tr>\n",
              "      <th>2</th>\n",
              "      <td>3</td>\n",
              "      <td>44</td>\n",
              "      <td>861</td>\n",
              "      <td>144</td>\n",
              "      <td>1</td>\n",
              "      <td>cash</td>\n",
              "      <td>2017-03-14 4:23:56</td>\n",
              "    </tr>\n",
              "    <tr>\n",
              "      <th>3</th>\n",
              "      <td>4</td>\n",
              "      <td>18</td>\n",
              "      <td>935</td>\n",
              "      <td>156</td>\n",
              "      <td>1</td>\n",
              "      <td>credit_card</td>\n",
              "      <td>2017-03-26 12:43:37</td>\n",
              "    </tr>\n",
              "    <tr>\n",
              "      <th>4</th>\n",
              "      <td>5</td>\n",
              "      <td>18</td>\n",
              "      <td>883</td>\n",
              "      <td>156</td>\n",
              "      <td>1</td>\n",
              "      <td>credit_card</td>\n",
              "      <td>2017-03-01 4:35:11</td>\n",
              "    </tr>\n",
              "    <tr>\n",
              "      <th>...</th>\n",
              "      <td>...</td>\n",
              "      <td>...</td>\n",
              "      <td>...</td>\n",
              "      <td>...</td>\n",
              "      <td>...</td>\n",
              "      <td>...</td>\n",
              "      <td>...</td>\n",
              "    </tr>\n",
              "    <tr>\n",
              "      <th>4995</th>\n",
              "      <td>4996</td>\n",
              "      <td>73</td>\n",
              "      <td>993</td>\n",
              "      <td>330</td>\n",
              "      <td>2</td>\n",
              "      <td>debit</td>\n",
              "      <td>2017-03-30 13:47:17</td>\n",
              "    </tr>\n",
              "    <tr>\n",
              "      <th>4996</th>\n",
              "      <td>4997</td>\n",
              "      <td>48</td>\n",
              "      <td>789</td>\n",
              "      <td>234</td>\n",
              "      <td>2</td>\n",
              "      <td>cash</td>\n",
              "      <td>2017-03-16 20:36:16</td>\n",
              "    </tr>\n",
              "    <tr>\n",
              "      <th>4997</th>\n",
              "      <td>4998</td>\n",
              "      <td>56</td>\n",
              "      <td>867</td>\n",
              "      <td>351</td>\n",
              "      <td>3</td>\n",
              "      <td>cash</td>\n",
              "      <td>2017-03-19 5:42:42</td>\n",
              "    </tr>\n",
              "    <tr>\n",
              "      <th>4998</th>\n",
              "      <td>4999</td>\n",
              "      <td>60</td>\n",
              "      <td>825</td>\n",
              "      <td>354</td>\n",
              "      <td>2</td>\n",
              "      <td>credit_card</td>\n",
              "      <td>2017-03-16 14:51:18</td>\n",
              "    </tr>\n",
              "    <tr>\n",
              "      <th>4999</th>\n",
              "      <td>5000</td>\n",
              "      <td>44</td>\n",
              "      <td>734</td>\n",
              "      <td>288</td>\n",
              "      <td>2</td>\n",
              "      <td>debit</td>\n",
              "      <td>2017-03-18 15:48:18</td>\n",
              "    </tr>\n",
              "  </tbody>\n",
              "</table>\n",
              "<p>5000 rows × 7 columns</p>\n",
              "</div>"
            ],
            "text/plain": [
              "      order_id  shop_id  ...  payment_method           created_at\n",
              "0            1       53  ...            cash  2017-03-13 12:36:56\n",
              "1            2       92  ...            cash  2017-03-03 17:38:52\n",
              "2            3       44  ...            cash   2017-03-14 4:23:56\n",
              "3            4       18  ...     credit_card  2017-03-26 12:43:37\n",
              "4            5       18  ...     credit_card   2017-03-01 4:35:11\n",
              "...        ...      ...  ...             ...                  ...\n",
              "4995      4996       73  ...           debit  2017-03-30 13:47:17\n",
              "4996      4997       48  ...            cash  2017-03-16 20:36:16\n",
              "4997      4998       56  ...            cash   2017-03-19 5:42:42\n",
              "4998      4999       60  ...     credit_card  2017-03-16 14:51:18\n",
              "4999      5000       44  ...           debit  2017-03-18 15:48:18\n",
              "\n",
              "[5000 rows x 7 columns]"
            ]
          },
          "metadata": {
            "tags": []
          },
          "execution_count": 76
        }
      ]
    },
    {
      "cell_type": "code",
      "metadata": {
        "id": "B7n1D25H7qDu",
        "colab_type": "code",
        "colab": {
          "base_uri": "https://localhost:8080/",
          "height": 35
        },
        "outputId": "44035e78-b1f7-43a3-bda6-8c2db7334832"
      },
      "source": [
        "df['order_amount'].mean()               "
      ],
      "execution_count": 77,
      "outputs": [
        {
          "output_type": "execute_result",
          "data": {
            "text/plain": [
              "3145.128"
            ]
          },
          "metadata": {
            "tags": []
          },
          "execution_count": 77
        }
      ]
    },
    {
      "cell_type": "code",
      "metadata": {
        "id": "G8LVlm3nABby",
        "colab_type": "code",
        "colab": {
          "base_uri": "https://localhost:8080/",
          "height": 297
        },
        "outputId": "cd6ea824-2c12-4bd0-c720-80a426fca64d"
      },
      "source": [
        "import seaborn as sns \n",
        "import matplotlib.pyplot as plt\n",
        "sns.boxplot(df[\"order_amount\"])         #mean for order_amount"
      ],
      "execution_count": 78,
      "outputs": [
        {
          "output_type": "execute_result",
          "data": {
            "text/plain": [
              "<matplotlib.axes._subplots.AxesSubplot at 0x7f3237bd9a58>"
            ]
          },
          "metadata": {
            "tags": []
          },
          "execution_count": 78
        },
        {
          "output_type": "display_data",
          "data": {
            "image/png": "[encoded data removed]",
            "text/plain": [
              "<Figure size 432x288 with 1 Axes>"
            ]
          },
          "metadata": {
            "tags": [],
            "needs_background": "light"
          }
        }
      ]
    },
    {
      "cell_type": "code",
      "metadata": {
        "id": "ikwbAZvJATld",
        "colab_type": "code",
        "colab": {
          "base_uri": "https://localhost:8080/",
          "height": 297
        },
        "outputId": "412e7ba1-6d70-4e04-919c-9b2badb54c56"
      },
      "source": [
        "df['calc'] = df['order_amount']/df['total_items']\n",
        "sns.boxplot(df[\"calc\"])                  #the outlier here is the $51450 for 2 pairs as I describe below"
      ],
      "execution_count": 79,
      "outputs": [
        {
          "output_type": "execute_result",
          "data": {
            "text/plain": [
              "<matplotlib.axes._subplots.AxesSubplot at 0x7f3237a956d8>"
            ]
          },
          "metadata": {
            "tags": []
          },
          "execution_count": 79
        },
        {
          "output_type": "display_data",
          "data": {
            "image/png": "[encoded data removed]",
            "text/plain": [
              "<Figure size 432x288 with 1 Axes>"
            ]
          },
          "metadata": {
            "tags": [],
            "needs_background": "light"
          }
        }
      ]
    },
    {
      "cell_type": "markdown",
      "metadata": {
        "id": "nhgy8U6U7y5v",
        "colab_type": "text"
      },
      "source": [
        "**1a)**  By analysing the data, I found that 'order amount' is the product of the cost (per pair of sneakers)*(number of pairs purchased). Using that information, the AOV is found by taking an average of 'order amount'. The fault in such a calculation is that it gives equal weight to all the sneakers sold. But when the data distribution is analysed using a boxplot, it is evident that there are outliers in the data and I found 51450 for 2pairs of sneakers, and 704000 for 2000 pairs a lot of times in the data. The 704000 is valid since, for each pair that would be a total of 352 which is reasonable.(However in the current calculation of mean, this is an outlier. A weighted mean calculation would solve this since it would account for thr 2000pairs and assign 704000 a weight accordingly). The $51450 for 2 pairs of sneaker seems to be a data entry error and I would proceed by eliminating that from the calulation of our mean."
      ]
    },
    {
      "cell_type": "code",
      "metadata": {
        "id": "XmULuhOuEfJv",
        "colab_type": "code",
        "colab": {}
      },
      "source": [
        "df = df[df.order_amount != 51450]             #removing outlier. note again that $704000 is not an outlier"
      ],
      "execution_count": 80,
      "outputs": []
    },
    {
      "cell_type": "code",
      "metadata": {
        "id": "sgc3hc-qExUt",
        "colab_type": "code",
        "colab": {
          "base_uri": "https://localhost:8080/",
          "height": 159
        },
        "outputId": "35a8a90e-2729-4356-dc7b-2a3d9a18b1eb"
      },
      "source": [
        "df['calc'] = df['order_amount']/df['total_items']\n",
        "df['calc'].mean()"
      ],
      "execution_count": 81,
      "outputs": [
        {
          "output_type": "stream",
          "text": [
            "/usr/local/lib/python3.6/dist-packages/ipykernel_launcher.py:1: SettingWithCopyWarning: \n",
            "A value is trying to be set on a copy of a slice from a DataFrame.\n",
            "Try using .loc[row_indexer,col_indexer] = value instead\n",
            "\n",
            "See the caveats in the documentation: https://pandas.pydata.org/pandas-docs/stable/user_guide/indexing.html#returning-a-view-versus-a-copy\n",
            "  \"\"\"Entry point for launching an IPython kernel.\n"
          ],
          "name": "stderr"
        },
        {
          "output_type": "execute_result",
          "data": {
            "text/plain": [
              "306.403290529695"
            ]
          },
          "metadata": {
            "tags": []
          },
          "execution_count": 81
        }
      ]
    },
    {
      "cell_type": "markdown",
      "metadata": {
        "id": "9FqNHa0jBgpA",
        "colab_type": "text"
      },
      "source": [
        "**1b)** Hence my suggested metric would be to 1)Remove the real outliers from the data (here 51450) and 2) use a WEIGHTED MEAN (which would avoid 704000 from being treated as an outlier) \n",
        "\n"
      ]
    },
    {
      "cell_type": "markdown",
      "metadata": {
        "id": "lAcbDL5IHE5j",
        "colab_type": "text"
      },
      "source": [
        "**1c)** The value would be 306.403 dollars per pair on average"
      ]
    },
    {
      "cell_type": "markdown",
      "metadata": {
        "id": "OAaUhE4hUiaB",
        "colab_type": "text"
      },
      "source": [
        "**QUESTION 2**\n"
      ]
    },
    {
      "cell_type": "markdown",
      "metadata": {
        "id": "cBl4Pgx-W8UO",
        "colab_type": "text"
      },
      "source": [
        "**2a)**"
      ]
    },
    {
      "cell_type": "code",
      "metadata": {
        "id": "1CEHHRFNUhgk",
        "colab_type": "code",
        "colab": {}
      },
      "source": [
        "SELECT COUNT(*)\n",
        "FROM Orders, Shippers\n",
        "WHERE Orders.ShipperId = Shippers.ShipperId AND ShipperName = \"Speedy Express\";"
      ],
      "execution_count": 75,
      "outputs": []
    },
    {
      "cell_type": "markdown",
      "metadata": {
        "id": "Lkp-7NqWW_mq",
        "colab_type": "text"
      },
      "source": [
        "Answer -54"
      ]
    },
    {
      "cell_type": "markdown",
      "metadata": {
        "id": "dvhhLGO5XCmZ",
        "colab_type": "text"
      },
      "source": [
        "**2b)**"
      ]
    },
    {
      "cell_type": "code",
      "metadata": {
        "id": "S19voEY8Uyhv",
        "colab_type": "code",
        "colab": {}
      },
      "source": [
        "SELECT [Employees].LastName, COUNT(*) AS ord\n",
        "FROM [Orders]\n",
        "JOIN [Employees]\n",
        "ON [Orders].EmployeeID = [Employees].EmployeeID\n",
        "GROUP BY [Employees].LastName\n",
        "ORDER BY ord DESC\n",
        "LIMIT 1"
      ],
      "execution_count": null,
      "outputs": []
    },
    {
      "cell_type": "markdown",
      "metadata": {
        "id": "QEEx6uqzarGu",
        "colab_type": "text"
      },
      "source": [
        "Answer - Peacock"
      ]
    },
    {
      "cell_type": "markdown",
      "metadata": {
        "id": "nx-hL0W8lQgX",
        "colab_type": "text"
      },
      "source": [
        "**2c)**"
      ]
    },
    {
      "cell_type": "code",
      "metadata": {
        "id": "wf8WqPeQkTpk",
        "colab_type": "code",
        "colab": {}
      },
      "source": [
        "SELECT Orders.OrderID,\n",
        "    Customers.Country\n",
        "FROM Orders\n",
        "JOIN Customers\n",
        "    ON Customers.CustomerID = Orders.CustomerID\n",
        "WHERE Customers.Country= \"Germany\";\n",
        "\n",
        "SELECT Customers.Country,\n",
        "    OrderDetails.ProductID,\n",
        "    SUM(OrderDetails.Quantity) AS \"Max\"\n",
        "FROM Orders\n",
        "JOIN Customers\n",
        "    ON Customers.CustomerID = Orders.CustomerID\n",
        "JOIN OrderDetails\n",
        "    ON OrderDetails.OrderID = Orders.OrderID\n",
        "WHERE Customers.Country = 'Germany'\n",
        "GROUP BY OrderDetails.ProductID\n",
        "ORDER BY Max DESC\n",
        "Limit 1;"
      ],
      "execution_count": null,
      "outputs": []
    },
    {
      "cell_type": "markdown",
      "metadata": {
        "id": "ZJ9OUelNlKEG",
        "colab_type": "text"
      },
      "source": [
        "Product 40 was the maximum ordered with a quantity of 160"
      ]
    }
  ]
}